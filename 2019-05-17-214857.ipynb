{
 "cells": [
  {
   "cell_type": "code",
   "execution_count": 1,
   "metadata": {
    "collapsed": false,
    "scrolled": true
   },
   "outputs": [
    {
     "name": "stderr",
     "output_type": "stream",
     "text": [
      "WARNING: Some output was deleted.\n"
     ]
    }
   ],
   "source": [
    "from pylab import plot,imshow,show,xlabel,ylabel\n",
    "from numpy import loadtxt,array,zeros,sqrt,pi,sin\n",
    "a = 500\n",
    "n = 100\n",
    "step = n / a\n",
    "l = 5.0\n",
    "k = 2.*pi / l\n",
    "zeta0 = 1.0\n",
    "x1 = 50.\n",
    "y1 = 50.\n",
    "x = zeros(a, float)\n",
    "y = zeros(a, float)\n",
    "\n",
    "for i in range(a):\n",
    "    x[i] = step*i\n",
    "    y[i] = step*i\n",
    "outfile = open(\"outdata.dat\", \"w\")\n",
    "\n",
    "for xx in range( len(x)):\n",
    "    for yy in range(len(y)):\n",
    "        r1 = sqrt((x1-x[xx])*(x1-x[xx]) + (y1-y[yy])*(y1-y[yy]))\n",
    "        outfile.write(\"%0.1f\"%(zeta0*sin(r1*k)))\n",
    "        \n",
    "outfile.write(\"\\n\")\n",
    "outfile.close()\n",
    "\n",
    "data = loadtxt(\"outdata.dat\", float)\n",
    "xlabel(\"propagacion de la onda en x\")\n",
    "ylabel(\"propagacion de la onda en y\")\n",
    "imshow(data)\n",
    "show()"
   ]
  },
  {
   "cell_type": "markdown",
   "metadata": {
    "collapsed": false
   },
   "source": [
    "A [bar plot](https://matplotlib.org/api/_as_gen/matplotlib.pyplot.bar.html#matplotlib.pyplot.bar) shows the values of an array as vertical rectangles."
   ]
  },
  {
   "cell_type": "code",
   "execution_count": 0,
   "metadata": {
    "collapsed": false
   },
   "outputs": [
   ],
   "source": [
    "from pylab import plot,imshow,show,xlabel,ylabel\n",
    "from numpy import loadtxt,array,zeros,sqrt,pi,sin\n",
    "a = 500\n",
    "n = 100\n",
    "step = n / a\n",
    "l = 5.0\n",
    "k = 2.*pi / l\n",
    "zeta0 = 1.0\n",
    "x2 = float(input(\"escriba donde cae la piedra en x\"))\n",
    "y1 = float(input(\"escriba donde cae la piedra en y\"))\n",
    "x = zeros(a, float)\n",
    "y = zeros(a, float)\n",
    "\n",
    "for i in range(a):\n",
    "    x[i] = step*i\n",
    "    y[i] = step*i\n",
    "\n",
    "vrb = open(\"outdata.dat\", \"w\")\n",
    "\n",
    "for yy in range( len(x)):\n",
    "    for xx in range(len(y)):\n",
    "        r2 = sqrt((x2-x[xx])*(x2-x[xx]) + (y1-y[yy])*(y1-y[yy]))\n",
    "        r1 = sqrt(((x2+20)-x[xx])*(((x2+20)-x[xx]) + (y1-y[yy])*(y1-y[yy]))\n",
    "        zeta1 = zeta0*sin(r2*k)\n",
    "        zeta2 = zeta0*sin(r1*k)\n",
    "        vrb.write(\"%0.1f\"%(zeta1))\n",
    "        vrb.write(\"%0.1f\"%(zeta2))\n",
    "        \n",
    "vrb.write(\"\\n\")\n",
    "vrb.close()\n",
    "\n",
    "data = loadtxt(\"outdata.dat\", float)\n",
    "imshow(data,origin = \"lower\",exis = [0,100,0,100])\n",
    "xlabel(\"propagacion de la onda en x\")\n",
    "ylabel(\"propagacion de la onda en y\")\n",
    "imshow(data)\n",
    "show()"
   ]
  }
 ],
 "metadata": {
  "kernelspec": {
   "display_name": "Python 3 (Ubuntu Linux)",
   "language": "python",
   "metadata": {
    "cocalc": {
     "description": "Python 3 programming language",
     "priority": 100,
     "url": "https://www.python.org/"
    }
   },
   "name": "python3"
  },
  "language_info": {
   "codemirror_mode": {
    "name": "ipython",
    "version": 3
   },
   "file_extension": ".py",
   "mimetype": "text/x-python",
   "name": "python",
   "nbconvert_exporter": "python",
   "pygments_lexer": "ipython3",
   "version": "3.6.7"
  }
 },
 "nbformat": 4,
 "nbformat_minor": 0
}